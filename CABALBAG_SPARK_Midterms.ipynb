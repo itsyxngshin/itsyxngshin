{
  "nbformat": 4,
  "nbformat_minor": 0,
  "metadata": {
    "colab": {
      "provenance": []
    },
    "kernelspec": {
      "name": "python3",
      "display_name": "Python 3"
    },
    "language_info": {
      "name": "python"
    }
  },
  "cells": [
    {
      "cell_type": "code",
      "execution_count": 1,
      "metadata": {
        "colab": {
          "base_uri": "https://localhost:8080/"
        },
        "id": "Cn-TO-xELNoQ",
        "outputId": "47fe0ecd-3e61-430b-adc8-732ad6a5b0d6"
      },
      "outputs": [
        {
          "output_type": "stream",
          "name": "stdout",
          "text": [
            "Requirement already satisfied: pyspark in /usr/local/lib/python3.11/dist-packages (3.5.5)\n",
            "Requirement already satisfied: py4j==0.10.9.7 in /usr/local/lib/python3.11/dist-packages (from pyspark) (0.10.9.7)\n",
            "Requirement already satisfied: nltk in /usr/local/lib/python3.11/dist-packages (3.9.1)\n",
            "Requirement already satisfied: click in /usr/local/lib/python3.11/dist-packages (from nltk) (8.1.8)\n",
            "Requirement already satisfied: joblib in /usr/local/lib/python3.11/dist-packages (from nltk) (1.4.2)\n",
            "Requirement already satisfied: regex>=2021.8.3 in /usr/local/lib/python3.11/dist-packages (from nltk) (2024.11.6)\n",
            "Requirement already satisfied: tqdm in /usr/local/lib/python3.11/dist-packages (from nltk) (4.67.1)\n",
            "Requirement already satisfied: transformers in /usr/local/lib/python3.11/dist-packages (4.48.3)\n",
            "Requirement already satisfied: torch in /usr/local/lib/python3.11/dist-packages (2.6.0+cu124)\n",
            "Requirement already satisfied: filelock in /usr/local/lib/python3.11/dist-packages (from transformers) (3.17.0)\n",
            "Requirement already satisfied: huggingface-hub<1.0,>=0.24.0 in /usr/local/lib/python3.11/dist-packages (from transformers) (0.28.1)\n",
            "Requirement already satisfied: numpy>=1.17 in /usr/local/lib/python3.11/dist-packages (from transformers) (1.26.4)\n",
            "Requirement already satisfied: packaging>=20.0 in /usr/local/lib/python3.11/dist-packages (from transformers) (24.2)\n",
            "Requirement already satisfied: pyyaml>=5.1 in /usr/local/lib/python3.11/dist-packages (from transformers) (6.0.2)\n",
            "Requirement already satisfied: regex!=2019.12.17 in /usr/local/lib/python3.11/dist-packages (from transformers) (2024.11.6)\n",
            "Requirement already satisfied: requests in /usr/local/lib/python3.11/dist-packages (from transformers) (2.32.3)\n",
            "Requirement already satisfied: tokenizers<0.22,>=0.21 in /usr/local/lib/python3.11/dist-packages (from transformers) (0.21.0)\n",
            "Requirement already satisfied: safetensors>=0.4.1 in /usr/local/lib/python3.11/dist-packages (from transformers) (0.5.3)\n",
            "Requirement already satisfied: tqdm>=4.27 in /usr/local/lib/python3.11/dist-packages (from transformers) (4.67.1)\n",
            "Requirement already satisfied: typing-extensions>=4.10.0 in /usr/local/lib/python3.11/dist-packages (from torch) (4.12.2)\n",
            "Requirement already satisfied: networkx in /usr/local/lib/python3.11/dist-packages (from torch) (3.4.2)\n",
            "Requirement already satisfied: jinja2 in /usr/local/lib/python3.11/dist-packages (from torch) (3.1.6)\n",
            "Requirement already satisfied: fsspec in /usr/local/lib/python3.11/dist-packages (from torch) (2024.10.0)\n",
            "Collecting nvidia-cuda-nvrtc-cu12==12.4.127 (from torch)\n",
            "  Downloading nvidia_cuda_nvrtc_cu12-12.4.127-py3-none-manylinux2014_x86_64.whl.metadata (1.5 kB)\n",
            "Collecting nvidia-cuda-runtime-cu12==12.4.127 (from torch)\n",
            "  Downloading nvidia_cuda_runtime_cu12-12.4.127-py3-none-manylinux2014_x86_64.whl.metadata (1.5 kB)\n",
            "Collecting nvidia-cuda-cupti-cu12==12.4.127 (from torch)\n",
            "  Downloading nvidia_cuda_cupti_cu12-12.4.127-py3-none-manylinux2014_x86_64.whl.metadata (1.6 kB)\n",
            "Collecting nvidia-cudnn-cu12==9.1.0.70 (from torch)\n",
            "  Downloading nvidia_cudnn_cu12-9.1.0.70-py3-none-manylinux2014_x86_64.whl.metadata (1.6 kB)\n",
            "Collecting nvidia-cublas-cu12==12.4.5.8 (from torch)\n",
            "  Downloading nvidia_cublas_cu12-12.4.5.8-py3-none-manylinux2014_x86_64.whl.metadata (1.5 kB)\n",
            "Collecting nvidia-cufft-cu12==11.2.1.3 (from torch)\n",
            "  Downloading nvidia_cufft_cu12-11.2.1.3-py3-none-manylinux2014_x86_64.whl.metadata (1.5 kB)\n",
            "Collecting nvidia-curand-cu12==10.3.5.147 (from torch)\n",
            "  Downloading nvidia_curand_cu12-10.3.5.147-py3-none-manylinux2014_x86_64.whl.metadata (1.5 kB)\n",
            "Collecting nvidia-cusolver-cu12==11.6.1.9 (from torch)\n",
            "  Downloading nvidia_cusolver_cu12-11.6.1.9-py3-none-manylinux2014_x86_64.whl.metadata (1.6 kB)\n",
            "Collecting nvidia-cusparse-cu12==12.3.1.170 (from torch)\n",
            "  Downloading nvidia_cusparse_cu12-12.3.1.170-py3-none-manylinux2014_x86_64.whl.metadata (1.6 kB)\n",
            "Requirement already satisfied: nvidia-cusparselt-cu12==0.6.2 in /usr/local/lib/python3.11/dist-packages (from torch) (0.6.2)\n",
            "Requirement already satisfied: nvidia-nccl-cu12==2.21.5 in /usr/local/lib/python3.11/dist-packages (from torch) (2.21.5)\n",
            "Requirement already satisfied: nvidia-nvtx-cu12==12.4.127 in /usr/local/lib/python3.11/dist-packages (from torch) (12.4.127)\n",
            "Collecting nvidia-nvjitlink-cu12==12.4.127 (from torch)\n",
            "  Downloading nvidia_nvjitlink_cu12-12.4.127-py3-none-manylinux2014_x86_64.whl.metadata (1.5 kB)\n",
            "Requirement already satisfied: triton==3.2.0 in /usr/local/lib/python3.11/dist-packages (from torch) (3.2.0)\n",
            "Requirement already satisfied: sympy==1.13.1 in /usr/local/lib/python3.11/dist-packages (from torch) (1.13.1)\n",
            "Requirement already satisfied: mpmath<1.4,>=1.1.0 in /usr/local/lib/python3.11/dist-packages (from sympy==1.13.1->torch) (1.3.0)\n",
            "Requirement already satisfied: MarkupSafe>=2.0 in /usr/local/lib/python3.11/dist-packages (from jinja2->torch) (3.0.2)\n",
            "Requirement already satisfied: charset-normalizer<4,>=2 in /usr/local/lib/python3.11/dist-packages (from requests->transformers) (3.4.1)\n",
            "Requirement already satisfied: idna<4,>=2.5 in /usr/local/lib/python3.11/dist-packages (from requests->transformers) (3.10)\n",
            "Requirement already satisfied: urllib3<3,>=1.21.1 in /usr/local/lib/python3.11/dist-packages (from requests->transformers) (2.3.0)\n",
            "Requirement already satisfied: certifi>=2017.4.17 in /usr/local/lib/python3.11/dist-packages (from requests->transformers) (2025.1.31)\n",
            "Downloading nvidia_cublas_cu12-12.4.5.8-py3-none-manylinux2014_x86_64.whl (363.4 MB)\n",
            "\u001b[2K   \u001b[90m━━━━━━━━━━━━━━━━━━━━━━━━━━━━━━━━━━━━━━━━\u001b[0m \u001b[32m363.4/363.4 MB\u001b[0m \u001b[31m4.2 MB/s\u001b[0m eta \u001b[36m0:00:00\u001b[0m\n",
            "\u001b[?25hDownloading nvidia_cuda_cupti_cu12-12.4.127-py3-none-manylinux2014_x86_64.whl (13.8 MB)\n",
            "\u001b[2K   \u001b[90m━━━━━━━━━━━━━━━━━━━━━━━━━━━━━━━━━━━━━━━━\u001b[0m \u001b[32m13.8/13.8 MB\u001b[0m \u001b[31m56.3 MB/s\u001b[0m eta \u001b[36m0:00:00\u001b[0m\n",
            "\u001b[?25hDownloading nvidia_cuda_nvrtc_cu12-12.4.127-py3-none-manylinux2014_x86_64.whl (24.6 MB)\n",
            "\u001b[2K   \u001b[90m━━━━━━━━━━━━━━━━━━━━━━━━━━━━━━━━━━━━━━━━\u001b[0m \u001b[32m24.6/24.6 MB\u001b[0m \u001b[31m33.8 MB/s\u001b[0m eta \u001b[36m0:00:00\u001b[0m\n",
            "\u001b[?25hDownloading nvidia_cuda_runtime_cu12-12.4.127-py3-none-manylinux2014_x86_64.whl (883 kB)\n",
            "\u001b[2K   \u001b[90m━━━━━━━━━━━━━━━━━━━━━━━━━━━━━━━━━━━━━━━━\u001b[0m \u001b[32m883.7/883.7 kB\u001b[0m \u001b[31m35.1 MB/s\u001b[0m eta \u001b[36m0:00:00\u001b[0m\n",
            "\u001b[?25hDownloading nvidia_cudnn_cu12-9.1.0.70-py3-none-manylinux2014_x86_64.whl (664.8 MB)\n",
            "\u001b[2K   \u001b[90m━━━━━━━━━━━━━━━━━━━━━━━━━━━━━━━━━━━━━━━━\u001b[0m \u001b[32m664.8/664.8 MB\u001b[0m \u001b[31m1.2 MB/s\u001b[0m eta \u001b[36m0:00:00\u001b[0m\n",
            "\u001b[?25hDownloading nvidia_cufft_cu12-11.2.1.3-py3-none-manylinux2014_x86_64.whl (211.5 MB)\n",
            "\u001b[2K   \u001b[90m━━━━━━━━━━━━━━━━━━━━━━━━━━━━━━━━━━━━━━━━\u001b[0m \u001b[32m211.5/211.5 MB\u001b[0m \u001b[31m4.6 MB/s\u001b[0m eta \u001b[36m0:00:00\u001b[0m\n",
            "\u001b[?25hDownloading nvidia_curand_cu12-10.3.5.147-py3-none-manylinux2014_x86_64.whl (56.3 MB)\n",
            "\u001b[2K   \u001b[90m━━━━━━━━━━━━━━━━━━━━━━━━━━━━━━━━━━━━━━━━\u001b[0m \u001b[32m56.3/56.3 MB\u001b[0m \u001b[31m13.5 MB/s\u001b[0m eta \u001b[36m0:00:00\u001b[0m\n",
            "\u001b[?25hDownloading nvidia_cusolver_cu12-11.6.1.9-py3-none-manylinux2014_x86_64.whl (127.9 MB)\n",
            "\u001b[2K   \u001b[90m━━━━━━━━━━━━━━━━━━━━━━━━━━━━━━━━━━━━━━━━\u001b[0m \u001b[32m127.9/127.9 MB\u001b[0m \u001b[31m8.3 MB/s\u001b[0m eta \u001b[36m0:00:00\u001b[0m\n",
            "\u001b[?25hDownloading nvidia_cusparse_cu12-12.3.1.170-py3-none-manylinux2014_x86_64.whl (207.5 MB)\n",
            "\u001b[2K   \u001b[90m━━━━━━━━━━━━━━━━━━━━━━━━━━━━━━━━━━━━━━━━\u001b[0m \u001b[32m207.5/207.5 MB\u001b[0m \u001b[31m6.0 MB/s\u001b[0m eta \u001b[36m0:00:00\u001b[0m\n",
            "\u001b[?25hDownloading nvidia_nvjitlink_cu12-12.4.127-py3-none-manylinux2014_x86_64.whl (21.1 MB)\n",
            "\u001b[2K   \u001b[90m━━━━━━━━━━━━━━━━━━━━━━━━━━━━━━━━━━━━━━━━\u001b[0m \u001b[32m21.1/21.1 MB\u001b[0m \u001b[31m67.6 MB/s\u001b[0m eta \u001b[36m0:00:00\u001b[0m\n",
            "\u001b[?25hInstalling collected packages: nvidia-nvjitlink-cu12, nvidia-curand-cu12, nvidia-cufft-cu12, nvidia-cuda-runtime-cu12, nvidia-cuda-nvrtc-cu12, nvidia-cuda-cupti-cu12, nvidia-cublas-cu12, nvidia-cusparse-cu12, nvidia-cudnn-cu12, nvidia-cusolver-cu12\n",
            "  Attempting uninstall: nvidia-nvjitlink-cu12\n",
            "    Found existing installation: nvidia-nvjitlink-cu12 12.5.82\n",
            "    Uninstalling nvidia-nvjitlink-cu12-12.5.82:\n",
            "      Successfully uninstalled nvidia-nvjitlink-cu12-12.5.82\n",
            "  Attempting uninstall: nvidia-curand-cu12\n",
            "    Found existing installation: nvidia-curand-cu12 10.3.6.82\n",
            "    Uninstalling nvidia-curand-cu12-10.3.6.82:\n",
            "      Successfully uninstalled nvidia-curand-cu12-10.3.6.82\n",
            "  Attempting uninstall: nvidia-cufft-cu12\n",
            "    Found existing installation: nvidia-cufft-cu12 11.2.3.61\n",
            "    Uninstalling nvidia-cufft-cu12-11.2.3.61:\n",
            "      Successfully uninstalled nvidia-cufft-cu12-11.2.3.61\n",
            "  Attempting uninstall: nvidia-cuda-runtime-cu12\n",
            "    Found existing installation: nvidia-cuda-runtime-cu12 12.5.82\n",
            "    Uninstalling nvidia-cuda-runtime-cu12-12.5.82:\n",
            "      Successfully uninstalled nvidia-cuda-runtime-cu12-12.5.82\n",
            "  Attempting uninstall: nvidia-cuda-nvrtc-cu12\n",
            "    Found existing installation: nvidia-cuda-nvrtc-cu12 12.5.82\n",
            "    Uninstalling nvidia-cuda-nvrtc-cu12-12.5.82:\n",
            "      Successfully uninstalled nvidia-cuda-nvrtc-cu12-12.5.82\n",
            "  Attempting uninstall: nvidia-cuda-cupti-cu12\n",
            "    Found existing installation: nvidia-cuda-cupti-cu12 12.5.82\n",
            "    Uninstalling nvidia-cuda-cupti-cu12-12.5.82:\n",
            "      Successfully uninstalled nvidia-cuda-cupti-cu12-12.5.82\n",
            "  Attempting uninstall: nvidia-cublas-cu12\n",
            "    Found existing installation: nvidia-cublas-cu12 12.5.3.2\n",
            "    Uninstalling nvidia-cublas-cu12-12.5.3.2:\n",
            "      Successfully uninstalled nvidia-cublas-cu12-12.5.3.2\n",
            "  Attempting uninstall: nvidia-cusparse-cu12\n",
            "    Found existing installation: nvidia-cusparse-cu12 12.5.1.3\n",
            "    Uninstalling nvidia-cusparse-cu12-12.5.1.3:\n",
            "      Successfully uninstalled nvidia-cusparse-cu12-12.5.1.3\n",
            "  Attempting uninstall: nvidia-cudnn-cu12\n",
            "    Found existing installation: nvidia-cudnn-cu12 9.3.0.75\n",
            "    Uninstalling nvidia-cudnn-cu12-9.3.0.75:\n",
            "      Successfully uninstalled nvidia-cudnn-cu12-9.3.0.75\n",
            "  Attempting uninstall: nvidia-cusolver-cu12\n",
            "    Found existing installation: nvidia-cusolver-cu12 11.6.3.83\n",
            "    Uninstalling nvidia-cusolver-cu12-11.6.3.83:\n",
            "      Successfully uninstalled nvidia-cusolver-cu12-11.6.3.83\n",
            "Successfully installed nvidia-cublas-cu12-12.4.5.8 nvidia-cuda-cupti-cu12-12.4.127 nvidia-cuda-nvrtc-cu12-12.4.127 nvidia-cuda-runtime-cu12-12.4.127 nvidia-cudnn-cu12-9.1.0.70 nvidia-cufft-cu12-11.2.1.3 nvidia-curand-cu12-10.3.5.147 nvidia-cusolver-cu12-11.6.1.9 nvidia-cusparse-cu12-12.3.1.170 nvidia-nvjitlink-cu12-12.4.127\n",
            "Requirement already satisfied: pandas in /usr/local/lib/python3.11/dist-packages (2.2.2)\n",
            "Requirement already satisfied: matplotlib in /usr/local/lib/python3.11/dist-packages (3.10.0)\n",
            "Requirement already satisfied: numpy>=1.23.2 in /usr/local/lib/python3.11/dist-packages (from pandas) (1.26.4)\n",
            "Requirement already satisfied: python-dateutil>=2.8.2 in /usr/local/lib/python3.11/dist-packages (from pandas) (2.8.2)\n",
            "Requirement already satisfied: pytz>=2020.1 in /usr/local/lib/python3.11/dist-packages (from pandas) (2025.1)\n",
            "Requirement already satisfied: tzdata>=2022.7 in /usr/local/lib/python3.11/dist-packages (from pandas) (2025.1)\n",
            "Requirement already satisfied: contourpy>=1.0.1 in /usr/local/lib/python3.11/dist-packages (from matplotlib) (1.3.1)\n",
            "Requirement already satisfied: cycler>=0.10 in /usr/local/lib/python3.11/dist-packages (from matplotlib) (0.12.1)\n",
            "Requirement already satisfied: fonttools>=4.22.0 in /usr/local/lib/python3.11/dist-packages (from matplotlib) (4.56.0)\n",
            "Requirement already satisfied: kiwisolver>=1.3.1 in /usr/local/lib/python3.11/dist-packages (from matplotlib) (1.4.8)\n",
            "Requirement already satisfied: packaging>=20.0 in /usr/local/lib/python3.11/dist-packages (from matplotlib) (24.2)\n",
            "Requirement already satisfied: pillow>=8 in /usr/local/lib/python3.11/dist-packages (from matplotlib) (11.1.0)\n",
            "Requirement already satisfied: pyparsing>=2.3.1 in /usr/local/lib/python3.11/dist-packages (from matplotlib) (3.2.1)\n",
            "Requirement already satisfied: six>=1.5 in /usr/local/lib/python3.11/dist-packages (from python-dateutil>=2.8.2->pandas) (1.17.0)\n"
          ]
        }
      ],
      "source": [
        "!pip install pyspark\n",
        "!pip install nltk\n",
        "!pip install transformers torch\n",
        "!pip install pandas matplotlib"
      ]
    },
    {
      "cell_type": "code",
      "source": [
        "from pyspark.sql import SparkSession\n",
        "from pyspark.sql.functions import col, lower, regexp_replace, explode, split, count, when, udf\n",
        "from pyspark.sql.types import ArrayType, StringType, FloatType\n",
        "import nltk\n",
        "from nltk.corpus import stopwords\n",
        "import matplotlib.pyplot as plt\n",
        "import pandas as pd\n",
        "from google.colab import files\n",
        "from transformers import pipeline"
      ],
      "metadata": {
        "id": "riyaXD2-MbXR"
      },
      "execution_count": 3,
      "outputs": []
    },
    {
      "cell_type": "code",
      "source": [
        "## LOAD AND INSPECT DATASET\n",
        "\n",
        "# Download stopwords\n",
        "nltk.download('stopwords')\n",
        "\n",
        "# Initialize Spark session\n",
        "spark = SparkSession.builder.appName(\"Tweets\").getOrCreate()\n",
        "\n",
        "# File upload (manual upload)\n",
        "uploaded = files.upload() # Upload the CSV file\n",
        "file_name = list(uploaded.keys())[0] # Get the filename dynamically\n",
        "\n",
        "# Load the dataset into PySpark DataFrame\n",
        "df = spark.read.csv(file_name, header=True, inferSchema=True)\n",
        "\n",
        "# Show raw data\n",
        "df.show(30, truncate=False)\n",
        "\n"
      ],
      "metadata": {
        "colab": {
          "base_uri": "https://localhost:8080/",
          "height": 777
        },
        "id": "6g_KfN9UMe1u",
        "outputId": "447c69fb-4ad0-4132-acec-674d9f49f0a8"
      },
      "execution_count": 4,
      "outputs": [
        {
          "output_type": "stream",
          "name": "stderr",
          "text": [
            "[nltk_data] Downloading package stopwords to /root/nltk_data...\n",
            "[nltk_data]   Unzipping corpora/stopwords.zip.\n"
          ]
        },
        {
          "output_type": "display_data",
          "data": {
            "text/plain": [
              "<IPython.core.display.HTML object>"
            ],
            "text/html": [
              "\n",
              "     <input type=\"file\" id=\"files-7431ba5f-f6eb-4ba9-a1fa-65e95550697e\" name=\"files[]\" multiple disabled\n",
              "        style=\"border:none\" />\n",
              "     <output id=\"result-7431ba5f-f6eb-4ba9-a1fa-65e95550697e\">\n",
              "      Upload widget is only available when the cell has been executed in the\n",
              "      current browser session. Please rerun this cell to enable.\n",
              "      </output>\n",
              "      <script>// Copyright 2017 Google LLC\n",
              "//\n",
              "// Licensed under the Apache License, Version 2.0 (the \"License\");\n",
              "// you may not use this file except in compliance with the License.\n",
              "// You may obtain a copy of the License at\n",
              "//\n",
              "//      http://www.apache.org/licenses/LICENSE-2.0\n",
              "//\n",
              "// Unless required by applicable law or agreed to in writing, software\n",
              "// distributed under the License is distributed on an \"AS IS\" BASIS,\n",
              "// WITHOUT WARRANTIES OR CONDITIONS OF ANY KIND, either express or implied.\n",
              "// See the License for the specific language governing permissions and\n",
              "// limitations under the License.\n",
              "\n",
              "/**\n",
              " * @fileoverview Helpers for google.colab Python module.\n",
              " */\n",
              "(function(scope) {\n",
              "function span(text, styleAttributes = {}) {\n",
              "  const element = document.createElement('span');\n",
              "  element.textContent = text;\n",
              "  for (const key of Object.keys(styleAttributes)) {\n",
              "    element.style[key] = styleAttributes[key];\n",
              "  }\n",
              "  return element;\n",
              "}\n",
              "\n",
              "// Max number of bytes which will be uploaded at a time.\n",
              "const MAX_PAYLOAD_SIZE = 100 * 1024;\n",
              "\n",
              "function _uploadFiles(inputId, outputId) {\n",
              "  const steps = uploadFilesStep(inputId, outputId);\n",
              "  const outputElement = document.getElementById(outputId);\n",
              "  // Cache steps on the outputElement to make it available for the next call\n",
              "  // to uploadFilesContinue from Python.\n",
              "  outputElement.steps = steps;\n",
              "\n",
              "  return _uploadFilesContinue(outputId);\n",
              "}\n",
              "\n",
              "// This is roughly an async generator (not supported in the browser yet),\n",
              "// where there are multiple asynchronous steps and the Python side is going\n",
              "// to poll for completion of each step.\n",
              "// This uses a Promise to block the python side on completion of each step,\n",
              "// then passes the result of the previous step as the input to the next step.\n",
              "function _uploadFilesContinue(outputId) {\n",
              "  const outputElement = document.getElementById(outputId);\n",
              "  const steps = outputElement.steps;\n",
              "\n",
              "  const next = steps.next(outputElement.lastPromiseValue);\n",
              "  return Promise.resolve(next.value.promise).then((value) => {\n",
              "    // Cache the last promise value to make it available to the next\n",
              "    // step of the generator.\n",
              "    outputElement.lastPromiseValue = value;\n",
              "    return next.value.response;\n",
              "  });\n",
              "}\n",
              "\n",
              "/**\n",
              " * Generator function which is called between each async step of the upload\n",
              " * process.\n",
              " * @param {string} inputId Element ID of the input file picker element.\n",
              " * @param {string} outputId Element ID of the output display.\n",
              " * @return {!Iterable<!Object>} Iterable of next steps.\n",
              " */\n",
              "function* uploadFilesStep(inputId, outputId) {\n",
              "  const inputElement = document.getElementById(inputId);\n",
              "  inputElement.disabled = false;\n",
              "\n",
              "  const outputElement = document.getElementById(outputId);\n",
              "  outputElement.innerHTML = '';\n",
              "\n",
              "  const pickedPromise = new Promise((resolve) => {\n",
              "    inputElement.addEventListener('change', (e) => {\n",
              "      resolve(e.target.files);\n",
              "    });\n",
              "  });\n",
              "\n",
              "  const cancel = document.createElement('button');\n",
              "  inputElement.parentElement.appendChild(cancel);\n",
              "  cancel.textContent = 'Cancel upload';\n",
              "  const cancelPromise = new Promise((resolve) => {\n",
              "    cancel.onclick = () => {\n",
              "      resolve(null);\n",
              "    };\n",
              "  });\n",
              "\n",
              "  // Wait for the user to pick the files.\n",
              "  const files = yield {\n",
              "    promise: Promise.race([pickedPromise, cancelPromise]),\n",
              "    response: {\n",
              "      action: 'starting',\n",
              "    }\n",
              "  };\n",
              "\n",
              "  cancel.remove();\n",
              "\n",
              "  // Disable the input element since further picks are not allowed.\n",
              "  inputElement.disabled = true;\n",
              "\n",
              "  if (!files) {\n",
              "    return {\n",
              "      response: {\n",
              "        action: 'complete',\n",
              "      }\n",
              "    };\n",
              "  }\n",
              "\n",
              "  for (const file of files) {\n",
              "    const li = document.createElement('li');\n",
              "    li.append(span(file.name, {fontWeight: 'bold'}));\n",
              "    li.append(span(\n",
              "        `(${file.type || 'n/a'}) - ${file.size} bytes, ` +\n",
              "        `last modified: ${\n",
              "            file.lastModifiedDate ? file.lastModifiedDate.toLocaleDateString() :\n",
              "                                    'n/a'} - `));\n",
              "    const percent = span('0% done');\n",
              "    li.appendChild(percent);\n",
              "\n",
              "    outputElement.appendChild(li);\n",
              "\n",
              "    const fileDataPromise = new Promise((resolve) => {\n",
              "      const reader = new FileReader();\n",
              "      reader.onload = (e) => {\n",
              "        resolve(e.target.result);\n",
              "      };\n",
              "      reader.readAsArrayBuffer(file);\n",
              "    });\n",
              "    // Wait for the data to be ready.\n",
              "    let fileData = yield {\n",
              "      promise: fileDataPromise,\n",
              "      response: {\n",
              "        action: 'continue',\n",
              "      }\n",
              "    };\n",
              "\n",
              "    // Use a chunked sending to avoid message size limits. See b/62115660.\n",
              "    let position = 0;\n",
              "    do {\n",
              "      const length = Math.min(fileData.byteLength - position, MAX_PAYLOAD_SIZE);\n",
              "      const chunk = new Uint8Array(fileData, position, length);\n",
              "      position += length;\n",
              "\n",
              "      const base64 = btoa(String.fromCharCode.apply(null, chunk));\n",
              "      yield {\n",
              "        response: {\n",
              "          action: 'append',\n",
              "          file: file.name,\n",
              "          data: base64,\n",
              "        },\n",
              "      };\n",
              "\n",
              "      let percentDone = fileData.byteLength === 0 ?\n",
              "          100 :\n",
              "          Math.round((position / fileData.byteLength) * 100);\n",
              "      percent.textContent = `${percentDone}% done`;\n",
              "\n",
              "    } while (position < fileData.byteLength);\n",
              "  }\n",
              "\n",
              "  // All done.\n",
              "  yield {\n",
              "    response: {\n",
              "      action: 'complete',\n",
              "    }\n",
              "  };\n",
              "}\n",
              "\n",
              "scope.google = scope.google || {};\n",
              "scope.google.colab = scope.google.colab || {};\n",
              "scope.google.colab._files = {\n",
              "  _uploadFiles,\n",
              "  _uploadFilesContinue,\n",
              "};\n",
              "})(self);\n",
              "</script> "
            ]
          },
          "metadata": {}
        },
        {
          "output_type": "stream",
          "name": "stdout",
          "text": [
            "Saving Midterm-Data.csv to Midterm-Data.csv\n",
            "+-----------------------------------------------------------------------------------------------------------------------------------------------+\n",
            "|tweets                                                                                                                                         |\n",
            "+-----------------------------------------------------------------------------------------------------------------------------------------------+\n",
            "| @user when a father is dysfunctional and is so selfish he drags his kids into his dysfunction.   #run                                         |\n",
            "|@user @user thanks for #lyft credit i can't use cause they don't offer wheelchair vans in pdx.    #disapointed #getthanked                     |\n",
            "|  bihday your majesty                                                                                                                          |\n",
            "|#model   i love u take with u all the time in urð±!!! ððððð¦ð¦ð¦                                                           |\n",
            "| factsguide: society now    #motivation                                                                                                        |\n",
            "|[2/2] huge fan fare and big talking before they leave. chaos and pay disputes when they get there. #allshowandnogo                             |\n",
            "| @user camping tomorrow @user @user @user @user @user @user @user dannyâ¦                                                                     |\n",
            "|the next school year is the year for exams.ð¯ can't think about that ð­ #school #exams   #hate #imagine #actorslife #revolutionschool #girl|\n",
            "|we won!!! love the land!!! #allin #cavs #champions #cleveland #clevelandcavaliers  â¦                                                         |\n",
            "| @user @user welcome here !  i'm   it's so #gr8 !                                                                                              |\n",
            "| â #ireland consumer price index (mom) climbed from previous 0.2% to 0.5% in may   #blog #silver #gold #forex                                |\n",
            "|we are so selfish. #orlando #standwithorlando #pulseshooting #orlandoshooting #biggerproblems #selfish #heabreaking   #values #love #          |\n",
            "|i get to see my daddy today!!   #80days #gettingfed                                                                                            |\n",
            "|@user #cnn calls #michigan middle school 'build the wall' chant '' #tcot                                                                       |\n",
            "|no comment!  in #australia   #opkillingbay #seashepherd #helpcovedolphins #thecove  #helpcovedolphins                                          |\n",
            "|ouch...junior is angryð#got7 #junior #yugyoem   #omg                                                                                        |\n",
            "|i am thankful for having a paner. #thankful #positive                                                                                          |\n",
            "|retweet if you agree!                                                                                                                          |\n",
            "|its #friday! ð smiles all around via ig user: @user #cookies make people                                                                    |\n",
            "|as we all know, essential oils are not made of chemicals.                                                                                      |\n",
            "|#euro2016 people blaming ha for conceded goal was it fat rooney who gave away free kick knowing bale can hit them from there.                  |\n",
            "|sad little dude..   #badday #coneofshame #cats #pissed #funny #laughs                                                                          |\n",
            "|product of the day: happy man #wine tool  who's   it's the #weekend? time to open up &amp; drink up!                                           |\n",
            "|@user @user lumpy says i am a . prove it lumpy.                                                                                                |\n",
            "| @user #tgif   #ff to my #gamedev #indiedev #indiegamedev #squad! @user @user @user @user @user                                                |\n",
            "|beautiful sign by vendor 80 for $45.00!! #upsideofflorida #shopalyssas   #love                                                                 |\n",
            "| @user all #smiles when #media is   !! ðð #pressconference in #antalya #turkey ! sunday #throwback  love! ððâ¤ï¸                 |\n",
            "|we had a great panel on the mediatization of the public service   #ica16                                                                       |\n",
            "|happy father's day @user ðððð                                                                                                      |\n",
            "|50 people went to nightclub to have a good night and 1 man's actions means those people are lost to their families forever #rip#orlando        |\n",
            "+-----------------------------------------------------------------------------------------------------------------------------------------------+\n",
            "only showing top 30 rows\n",
            "\n"
          ]
        }
      ]
    },
    {
      "cell_type": "code",
      "source": [
        "## DATA PREPROCESSING\n",
        "\n",
        "# Preprocessing Steps\n",
        "## Remove special characters and punctuation from tweets\n",
        "df = df.withColumn(\"tweets\", regexp_replace(col(\"tweets\"), r\"[^a-zA-Z\\s]\", \"\"))\n",
        "\n",
        "## Convert to lowercase\n",
        "df = df.withColumn(\"tweets\", lower(col(\"tweets\")))\n",
        "\n",
        "# Tokenization\n",
        "df = df.withColumn(\"words\",split(col(\"tweets\"), \" \"))\n",
        "\n",
        "# Stopword Removal\n",
        "stop_words = set(stopwords.words(\"english\"))\n",
        "additional_stopwords = {\"user\", \"im\", \" \", \"u\", \"amp\", \"day\", \"get\", \"if\", \"all\", \"ur\", \"one\", \"people\"} # Customize as needed stop_words.update(additional_stopwords)\n",
        "def remove_stopwords(words):\n",
        "  return [word for word in words if word not in stop_words and word != \"\"]\n",
        "\n",
        "remove_stopwords_udf = udf(remove_stopwords, ArrayType(StringType()))\n",
        "df = df.withColumn(\"filtered_words\", remove_stopwords_udf(col(\"words\")))\n",
        "\n"
      ],
      "metadata": {
        "id": "9SfrKKXVrMOj"
      },
      "execution_count": 12,
      "outputs": []
    },
    {
      "cell_type": "code",
      "source": [
        "#Word Frequency Analysis\n",
        "df_exploded = df.select(explode(col(\"filtered_words\")).alias(\"word\"))\n",
        "df_exploded = df_exploded.filter(~col(\"word\").isin(additional_stopwords))\n",
        "word_counts = df_exploded.groupBy(\"word\").count().orderBy(col (\"count\").desc())\n",
        "\n",
        "## Display Top 30 Words\n",
        "word_counts.show(30)"
      ],
      "metadata": {
        "colab": {
          "base_uri": "https://localhost:8080/"
        },
        "id": "_xPXP0YWv1mO",
        "outputId": "e68b0d90-2967-4b71-d05f-d1696c16b722"
      },
      "execution_count": 11,
      "outputs": [
        {
          "output_type": "stream",
          "name": "stdout",
          "text": [
            "+---------+-----+\n",
            "|     word|count|\n",
            "+---------+-----+\n",
            "|     love|   94|\n",
            "|    happy|   54|\n",
            "| thankful|   38|\n",
            "| positive|   33|\n",
            "|     good|   32|\n",
            "|   bihday|   31|\n",
            "|     like|   31|\n",
            "|     time|   31|\n",
            "|     life|   30|\n",
            "|    today|   27|\n",
            "|      new|   26|\n",
            "|     dont|   26|\n",
            "|     take|   25|\n",
            "|  fathers|   23|\n",
            "|     know|   21|\n",
            "|  healthy|   20|\n",
            "|     work|   20|\n",
            "|    right|   20|\n",
            "|       go|   19|\n",
            "|     want|   19|\n",
            "|      see|   19|\n",
            "|   family|   19|\n",
            "|  weekend|   19|\n",
            "|     days|   18|\n",
            "|     back|   18|\n",
            "|  orlando|   18|\n",
            "|beautiful|   18|\n",
            "|     blog|   17|\n",
            "|     gold|   17|\n",
            "|     home|   17|\n",
            "+---------+-----+\n",
            "only showing top 30 rows\n",
            "\n"
          ]
        }
      ]
    },
    {
      "cell_type": "code",
      "source": [
        "\n",
        "# Convert to Pandas for visualization\n",
        "word_counts_pd = word_counts.limit(10).toPandas()\n",
        "# Plot bar chart\n",
        "plt.figure(figsize=(10, 5))\n",
        "plt.bar(word_counts_pd[\"word\"], word_counts_pd[\"count\"], color=\"skyblue\")\n",
        "plt.xlabel(\"Words\")\n",
        "plt.ylabel(\"Frequency\")\n",
        "plt.title(\"Most Common Words in Tweets\")\n",
        "plt.xticks(rotation=45)\n",
        "plt.show()\n",
        "\n"
      ],
      "metadata": {
        "colab": {
          "base_uri": "https://localhost:8080/",
          "height": 524
        },
        "id": "PpesxvC8tJeS",
        "outputId": "42dc51d7-e44d-4c84-bfac-a08f400e17fa"
      },
      "execution_count": 13,
      "outputs": [
        {
          "output_type": "display_data",
          "data": {
            "text/plain": [
              "<Figure size 1000x500 with 1 Axes>"
            ],
            "image/png": "[encoded data removed]"
          },
          "metadata": {}
        }
      ]
    },
    {
      "cell_type": "code",
      "source": [
        "# HYPERPARAMETERS\n",
        "MODEL_NAME = \"distilbert-base-uncased-finetuned-sst-2-english\" # Change to another BERT model\n",
        "BATCH_SIZE = 16 # Number of texts processed per batch (increase for speed)\n",
        "MAX_LENGTH = 512 # Truncate text after 512 tokens\n",
        "CONFIDENCE_THRESHOLD = 0.5 # If confidence < 0.75, classify as NEUTRAL"
      ],
      "metadata": {
        "id": "cozCWEnuvnB5"
      },
      "execution_count": 22,
      "outputs": []
    },
    {
      "cell_type": "code",
      "source": [
        "# Load BERT sentiment analysis pipeline\n",
        "sentiment_pipeline = pipeline(\"sentiment-analysis\", model=MODEL_NAME)\n",
        "def get_sentiment(text):\n",
        "  if text:\n",
        "    result = sentiment_pipeline(text[:MAX_LENGTH], truncation=True)[0] # Limit to max tokens\n",
        "    label, score = result['label'], result['score']\n",
        "\n",
        "    # Apply confidence threshold\n",
        "    if score < CONFIDENCE_THRESHOLD:\n",
        "      return \"NEUTRAL\"\n",
        "    elif label == \"POSITIVE\":\n",
        "      return \"POSITIVE\"\n",
        "    else:\n",
        "      return \"NEGATIVE\"\n",
        "      return \"NEUTRAL\""
      ],
      "metadata": {
        "colab": {
          "base_uri": "https://localhost:8080/"
        },
        "id": "qqsiMGePtM6L",
        "outputId": "7bda8513-825d-4b8c-c8a4-280fb83c48b5"
      },
      "execution_count": 23,
      "outputs": [
        {
          "output_type": "stream",
          "name": "stderr",
          "text": [
            "Device set to use cpu\n"
          ]
        }
      ]
    },
    {
      "cell_type": "code",
      "source": [
        "# Define PySpark UDF for sentiment classification\n",
        "\n",
        "sentiment_udf = udf(get_sentiment, StringType())\n",
        "\n",
        "# Apply sentiment analysis\n",
        "df = df.withColumn(\"sentiment\", sentiment_udf(col(\"tweets\")))"
      ],
      "metadata": {
        "id": "cu58S0xMtQpN"
      },
      "execution_count": 24,
      "outputs": []
    },
    {
      "cell_type": "code",
      "source": [
        "# Show sentiment results with scores\n",
        "df.select(\"tweets\", \"sentiment\").show(30, truncate=False)"
      ],
      "metadata": {
        "colab": {
          "base_uri": "https://localhost:8080/"
        },
        "id": "91qXAoeGwd5M",
        "outputId": "9d841cb2-d222-4e87-e223-6e0bcca7625c"
      },
      "execution_count": 25,
      "outputs": [
        {
          "output_type": "stream",
          "name": "stdout",
          "text": [
            "+---------------------------------------------------------------------------------------------------------------------------------+---------+\n",
            "|tweets                                                                                                                           |sentiment|\n",
            "+---------------------------------------------------------------------------------------------------------------------------------+---------+\n",
            "| user when a father is dysfunctional and is so selfish he drags his kids into his dysfunction   run                              |NEGATIVE |\n",
            "|user user thanks for lyft credit i cant use cause they dont offer wheelchair vans in pdx    disapointed getthanked               |NEGATIVE |\n",
            "|  bihday your majesty                                                                                                            |POSITIVE |\n",
            "|model   i love u take with u all the time in ur                                                                                  |POSITIVE |\n",
            "| factsguide society now    motivation                                                                                            |POSITIVE |\n",
            "| huge fan fare and big talking before they leave chaos and pay disputes when they get there allshowandnogo                       |POSITIVE |\n",
            "| user camping tomorrow user user user user user user user danny                                                                  |NEGATIVE |\n",
            "|the next school year is the year for exams cant think about that  school exams   hate imagine actorslife revolutionschool girl   |NEGATIVE |\n",
            "|we won love the land allin cavs champions cleveland clevelandcavaliers                                                           |POSITIVE |\n",
            "| user user welcome here   im   its so gr                                                                                         |NEGATIVE |\n",
            "|  ireland consumer price index mom climbed from previous  to  in may   blog silver gold forex                                    |NEGATIVE |\n",
            "|we are so selfish orlando standwithorlando pulseshooting orlandoshooting biggerproblems selfish heabreaking   values love        |NEGATIVE |\n",
            "|i get to see my daddy today   days gettingfed                                                                                    |POSITIVE |\n",
            "|user cnn calls michigan middle school build the wall chant  tcot                                                                 |NEGATIVE |\n",
            "|no comment  in australia   opkillingbay seashepherd helpcovedolphins thecove  helpcovedolphins                                   |NEGATIVE |\n",
            "|ouchjunior is angrygot junior yugyoem   omg                                                                                      |NEGATIVE |\n",
            "|i am thankful for having a paner thankful positive                                                                               |POSITIVE |\n",
            "|retweet if you agree                                                                                                             |NEGATIVE |\n",
            "|its friday  smiles all around via ig user user cookies make people                                                               |POSITIVE |\n",
            "|as we all know essential oils are not made of chemicals                                                                          |NEGATIVE |\n",
            "|euro people blaming ha for conceded goal was it fat rooney who gave away free kick knowing bale can hit them from there          |NEGATIVE |\n",
            "|sad little dude   badday coneofshame cats pissed funny laughs                                                                    |NEGATIVE |\n",
            "|product of the day happy man wine tool  whos   its the weekend time to open up amp drink up                                      |POSITIVE |\n",
            "|user user lumpy says i am a  prove it lumpy                                                                                      |NEGATIVE |\n",
            "| user tgif   ff to my gamedev indiedev indiegamedev squad user user user user user                                               |NEGATIVE |\n",
            "|beautiful sign by vendor  for  upsideofflorida shopalyssas   love                                                                |POSITIVE |\n",
            "| user all smiles when media is     pressconference in antalya turkey  sunday throwback  love                                     |POSITIVE |\n",
            "|we had a great panel on the mediatization of the public service   ica                                                            |POSITIVE |\n",
            "|happy fathers day user                                                                                                           |POSITIVE |\n",
            "| people went to nightclub to have a good night and  mans actions means those people are lost to their families forever riporlando|NEGATIVE |\n",
            "+---------------------------------------------------------------------------------------------------------------------------------+---------+\n",
            "only showing top 30 rows\n",
            "\n"
          ]
        }
      ]
    },
    {
      "cell_type": "code",
      "source": [
        "#Count of each sentiment category\n",
        "df.groupBy(\"sentiment\").count().show()"
      ],
      "metadata": {
        "colab": {
          "base_uri": "https://localhost:8080/"
        },
        "id": "ZhEUEM8IxQcO",
        "outputId": "bf3273d2-85ec-4690-872d-7e28190ae985"
      },
      "execution_count": 26,
      "outputs": [
        {
          "output_type": "stream",
          "name": "stdout",
          "text": [
            "+---------+-----+\n",
            "|sentiment|count|\n",
            "+---------+-----+\n",
            "| POSITIVE|  461|\n",
            "| NEGATIVE|  538|\n",
            "+---------+-----+\n",
            "\n"
          ]
        }
      ]
    },
    {
      "cell_type": "markdown",
      "source": [
        "HYPERPARAMETER COMBINATION 2"
      ],
      "metadata": {
        "id": "-y2NvM78ym46"
      }
    },
    {
      "cell_type": "code",
      "source": [
        "# HYPERPARAMETERS\n",
        "MODEL_NAME = \"distilbert-base-uncased-finetuned-sst-2-english\" # Change to another BERT model\n",
        "BATCH_SIZE = 32 # Number of texts processed per batch (increase for speed)\n",
        "MAX_LENGTH = 256 # Truncate text after 512 tokens\n",
        "CONFIDENCE_THRESHOLD = 0.75 # If confidence < 0.75, classify as NEUTRAL"
      ],
      "metadata": {
        "id": "KHzppo-YxbHS"
      },
      "execution_count": 27,
      "outputs": []
    },
    {
      "cell_type": "code",
      "source": [
        "# Load BERT sentiment analysis pipeline\n",
        "sentiment_pipeline = pipeline(\"sentiment-analysis\", model=MODEL_NAME)\n",
        "def get_sentiment(text):\n",
        "  if text:\n",
        "    result = sentiment_pipeline(text[:MAX_LENGTH], truncation=True)[0] # Limit to max tokens\n",
        "    label, score = result['label'], result['score']\n",
        "\n",
        "    # Apply confidence threshold\n",
        "    if score < CONFIDENCE_THRESHOLD:\n",
        "      return \"NEUTRAL\"\n",
        "    elif label == \"POSITIVE\":\n",
        "      return \"POSITIVE\"\n",
        "    else:\n",
        "      return \"NEGATIVE\"\n",
        "      return \"NEUTRAL\""
      ],
      "metadata": {
        "colab": {
          "base_uri": "https://localhost:8080/"
        },
        "id": "Gphg4vCMyjzs",
        "outputId": "64885cda-8ee7-41ac-d25a-004ff8a1375d"
      },
      "execution_count": 28,
      "outputs": [
        {
          "output_type": "stream",
          "name": "stderr",
          "text": [
            "Device set to use cpu\n"
          ]
        }
      ]
    },
    {
      "cell_type": "code",
      "source": [
        "# Define PySpark UDF for sentiment classification\n",
        "\n",
        "sentiment_udf = udf(get_sentiment, StringType())\n",
        "\n",
        "# Apply sentiment analysis\n",
        "df = df.withColumn(\"sentiment\", sentiment_udf(col(\"tweets\")))\n",
        "\n",
        " # Creates a new column \"sentiment\" in the DataFrame.\n",
        " # Applies the UDF to classify sentiment for each row in the \"responses\" column."
      ],
      "metadata": {
        "id": "n4_e5Rr8yqxY"
      },
      "execution_count": 29,
      "outputs": []
    },
    {
      "cell_type": "code",
      "source": [
        "# Show sentiment results with scores\n",
        "df.select(\"tweets\", \"sentiment\").show(30, truncate=False)"
      ],
      "metadata": {
        "colab": {
          "base_uri": "https://localhost:8080/"
        },
        "id": "svvcIq7hys6l",
        "outputId": "eedefb12-504b-43a8-8b32-86f5698ddd8c"
      },
      "execution_count": 30,
      "outputs": [
        {
          "output_type": "stream",
          "name": "stdout",
          "text": [
            "+---------------------------------------------------------------------------------------------------------------------------------+---------+\n",
            "|tweets                                                                                                                           |sentiment|\n",
            "+---------------------------------------------------------------------------------------------------------------------------------+---------+\n",
            "| user when a father is dysfunctional and is so selfish he drags his kids into his dysfunction   run                              |NEGATIVE |\n",
            "|user user thanks for lyft credit i cant use cause they dont offer wheelchair vans in pdx    disapointed getthanked               |NEGATIVE |\n",
            "|  bihday your majesty                                                                                                            |POSITIVE |\n",
            "|model   i love u take with u all the time in ur                                                                                  |POSITIVE |\n",
            "| factsguide society now    motivation                                                                                            |NEUTRAL  |\n",
            "| huge fan fare and big talking before they leave chaos and pay disputes when they get there allshowandnogo                       |POSITIVE |\n",
            "| user camping tomorrow user user user user user user user danny                                                                  |NEGATIVE |\n",
            "|the next school year is the year for exams cant think about that  school exams   hate imagine actorslife revolutionschool girl   |NEGATIVE |\n",
            "|we won love the land allin cavs champions cleveland clevelandcavaliers                                                           |POSITIVE |\n",
            "| user user welcome here   im   its so gr                                                                                         |NEGATIVE |\n",
            "|  ireland consumer price index mom climbed from previous  to  in may   blog silver gold forex                                    |NEGATIVE |\n",
            "|we are so selfish orlando standwithorlando pulseshooting orlandoshooting biggerproblems selfish heabreaking   values love        |NEGATIVE |\n",
            "|i get to see my daddy today   days gettingfed                                                                                    |POSITIVE |\n",
            "|user cnn calls michigan middle school build the wall chant  tcot                                                                 |NEGATIVE |\n",
            "|no comment  in australia   opkillingbay seashepherd helpcovedolphins thecove  helpcovedolphins                                   |NEGATIVE |\n",
            "|ouchjunior is angrygot junior yugyoem   omg                                                                                      |NEGATIVE |\n",
            "|i am thankful for having a paner thankful positive                                                                               |POSITIVE |\n",
            "|retweet if you agree                                                                                                             |NEGATIVE |\n",
            "|its friday  smiles all around via ig user user cookies make people                                                               |POSITIVE |\n",
            "|as we all know essential oils are not made of chemicals                                                                          |NEGATIVE |\n",
            "|euro people blaming ha for conceded goal was it fat rooney who gave away free kick knowing bale can hit them from there          |NEGATIVE |\n",
            "|sad little dude   badday coneofshame cats pissed funny laughs                                                                    |NEUTRAL  |\n",
            "|product of the day happy man wine tool  whos   its the weekend time to open up amp drink up                                      |POSITIVE |\n",
            "|user user lumpy says i am a  prove it lumpy                                                                                      |NEGATIVE |\n",
            "| user tgif   ff to my gamedev indiedev indiegamedev squad user user user user user                                               |NEGATIVE |\n",
            "|beautiful sign by vendor  for  upsideofflorida shopalyssas   love                                                                |POSITIVE |\n",
            "| user all smiles when media is     pressconference in antalya turkey  sunday throwback  love                                     |POSITIVE |\n",
            "|we had a great panel on the mediatization of the public service   ica                                                            |POSITIVE |\n",
            "|happy fathers day user                                                                                                           |POSITIVE |\n",
            "| people went to nightclub to have a good night and  mans actions means those people are lost to their families forever riporlando|NEGATIVE |\n",
            "+---------------------------------------------------------------------------------------------------------------------------------+---------+\n",
            "only showing top 30 rows\n",
            "\n"
          ]
        }
      ]
    },
    {
      "cell_type": "code",
      "source": [
        "#Count of each sentiment category\n",
        "df.groupBy(\"sentiment\").count().show()"
      ],
      "metadata": {
        "colab": {
          "base_uri": "https://localhost:8080/"
        },
        "id": "YCPXhcEXyuw0",
        "outputId": "34620e00-67c0-4a36-c904-9f25c742010c"
      },
      "execution_count": 31,
      "outputs": [
        {
          "output_type": "stream",
          "name": "stdout",
          "text": [
            "+---------+-----+\n",
            "|sentiment|count|\n",
            "+---------+-----+\n",
            "| POSITIVE|  432|\n",
            "| NEGATIVE|  505|\n",
            "|  NEUTRAL|   62|\n",
            "+---------+-----+\n",
            "\n"
          ]
        }
      ]
    },
    {
      "cell_type": "markdown",
      "source": [
        "HYPERPARAMATER COMBINATION 3"
      ],
      "metadata": {
        "id": "D5amVbwky6ll"
      }
    },
    {
      "cell_type": "code",
      "source": [
        "# HYPERPARAMETERS\n",
        "MODEL_NAME = \"distilbert-base-uncased-finetuned-sst-2-english\" # Change to another BERT model\n",
        "BATCH_SIZE = 8 # Number of texts processed per batch (increase for speed)\n",
        "MAX_LENGTH = 128 # Truncate text after 512 tokens\n",
        "CONFIDENCE_THRESHOLD = 0.75 # If confidence < 0.75, classify as NEUTRAL"
      ],
      "metadata": {
        "id": "OKTW_BzDzKjN"
      },
      "execution_count": 32,
      "outputs": []
    },
    {
      "cell_type": "code",
      "source": [
        "# Load BERT sentiment analysis pipeline\n",
        "sentiment_pipeline = pipeline(\"sentiment-analysis\", model=MODEL_NAME)\n",
        "def get_sentiment(text):\n",
        "  if text:\n",
        "    result = sentiment_pipeline(text[:MAX_LENGTH], truncation=True)[0] # Limit to max tokens\n",
        "    label, score = result['label'], result['score']\n",
        "\n",
        "    # Apply confidence threshold\n",
        "    if score < CONFIDENCE_THRESHOLD:\n",
        "      return \"NEUTRAL\"\n",
        "    elif label == \"POSITIVE\":\n",
        "      return \"POSITIVE\"\n",
        "    else:\n",
        "      return \"NEGATIVE\"\n",
        "      return \"NEUTRAL\""
      ],
      "metadata": {
        "colab": {
          "base_uri": "https://localhost:8080/"
        },
        "id": "EJh64QRgzQKl",
        "outputId": "c06e1ae9-f143-4e7e-d798-7da1087228f9"
      },
      "execution_count": 33,
      "outputs": [
        {
          "output_type": "stream",
          "name": "stderr",
          "text": [
            "Device set to use cpu\n"
          ]
        }
      ]
    },
    {
      "cell_type": "code",
      "source": [
        "# Define PySpark UDF for sentiment classification\n",
        "\n",
        "sentiment_udf = udf(get_sentiment, StringType())\n",
        "\n",
        "# Apply sentiment analysis\n",
        "df = df.withColumn(\"sentiment\", sentiment_udf(col(\"tweets\")))"
      ],
      "metadata": {
        "id": "rUj2d04DzSUV"
      },
      "execution_count": 34,
      "outputs": []
    },
    {
      "cell_type": "code",
      "source": [
        "# Show sentiment results with scores\n",
        "df.select(\"tweets\", \"sentiment\").show(30, truncate=False)"
      ],
      "metadata": {
        "colab": {
          "base_uri": "https://localhost:8080/"
        },
        "id": "08erV9WgzUKj",
        "outputId": "ed1fa20c-4f18-4f5b-b082-6f4172d1d028"
      },
      "execution_count": 35,
      "outputs": [
        {
          "output_type": "stream",
          "name": "stdout",
          "text": [
            "+---------------------------------------------------------------------------------------------------------------------------------+---------+\n",
            "|tweets                                                                                                                           |sentiment|\n",
            "+---------------------------------------------------------------------------------------------------------------------------------+---------+\n",
            "| user when a father is dysfunctional and is so selfish he drags his kids into his dysfunction   run                              |NEGATIVE |\n",
            "|user user thanks for lyft credit i cant use cause they dont offer wheelchair vans in pdx    disapointed getthanked               |NEGATIVE |\n",
            "|  bihday your majesty                                                                                                            |POSITIVE |\n",
            "|model   i love u take with u all the time in ur                                                                                  |POSITIVE |\n",
            "| factsguide society now    motivation                                                                                            |NEUTRAL  |\n",
            "| huge fan fare and big talking before they leave chaos and pay disputes when they get there allshowandnogo                       |POSITIVE |\n",
            "| user camping tomorrow user user user user user user user danny                                                                  |NEGATIVE |\n",
            "|the next school year is the year for exams cant think about that  school exams   hate imagine actorslife revolutionschool girl   |NEGATIVE |\n",
            "|we won love the land allin cavs champions cleveland clevelandcavaliers                                                           |POSITIVE |\n",
            "| user user welcome here   im   its so gr                                                                                         |NEGATIVE |\n",
            "|  ireland consumer price index mom climbed from previous  to  in may   blog silver gold forex                                    |NEGATIVE |\n",
            "|we are so selfish orlando standwithorlando pulseshooting orlandoshooting biggerproblems selfish heabreaking   values love        |NEGATIVE |\n",
            "|i get to see my daddy today   days gettingfed                                                                                    |POSITIVE |\n",
            "|user cnn calls michigan middle school build the wall chant  tcot                                                                 |NEGATIVE |\n",
            "|no comment  in australia   opkillingbay seashepherd helpcovedolphins thecove  helpcovedolphins                                   |NEGATIVE |\n",
            "|ouchjunior is angrygot junior yugyoem   omg                                                                                      |NEGATIVE |\n",
            "|i am thankful for having a paner thankful positive                                                                               |POSITIVE |\n",
            "|retweet if you agree                                                                                                             |NEGATIVE |\n",
            "|its friday  smiles all around via ig user user cookies make people                                                               |POSITIVE |\n",
            "|as we all know essential oils are not made of chemicals                                                                          |NEGATIVE |\n",
            "|euro people blaming ha for conceded goal was it fat rooney who gave away free kick knowing bale can hit them from there          |NEGATIVE |\n",
            "|sad little dude   badday coneofshame cats pissed funny laughs                                                                    |NEUTRAL  |\n",
            "|product of the day happy man wine tool  whos   its the weekend time to open up amp drink up                                      |POSITIVE |\n",
            "|user user lumpy says i am a  prove it lumpy                                                                                      |NEGATIVE |\n",
            "| user tgif   ff to my gamedev indiedev indiegamedev squad user user user user user                                               |NEGATIVE |\n",
            "|beautiful sign by vendor  for  upsideofflorida shopalyssas   love                                                                |POSITIVE |\n",
            "| user all smiles when media is     pressconference in antalya turkey  sunday throwback  love                                     |POSITIVE |\n",
            "|we had a great panel on the mediatization of the public service   ica                                                            |POSITIVE |\n",
            "|happy fathers day user                                                                                                           |POSITIVE |\n",
            "| people went to nightclub to have a good night and  mans actions means those people are lost to their families forever riporlando|NEGATIVE |\n",
            "+---------------------------------------------------------------------------------------------------------------------------------+---------+\n",
            "only showing top 30 rows\n",
            "\n"
          ]
        }
      ]
    },
    {
      "cell_type": "code",
      "source": [
        "#Count of each sentiment category\n",
        "df.groupBy(\"sentiment\").count().show()"
      ],
      "metadata": {
        "colab": {
          "base_uri": "https://localhost:8080/"
        },
        "id": "_c9NAXY1zXTF",
        "outputId": "c875c34f-8726-4589-a306-b02557cd2bc5"
      },
      "execution_count": 36,
      "outputs": [
        {
          "output_type": "stream",
          "name": "stdout",
          "text": [
            "+---------+-----+\n",
            "|sentiment|count|\n",
            "+---------+-----+\n",
            "| POSITIVE|  432|\n",
            "| NEGATIVE|  505|\n",
            "|  NEUTRAL|   62|\n",
            "+---------+-----+\n",
            "\n"
          ]
        }
      ]
    },
    {
      "cell_type": "markdown",
      "source": [
        "HYPERPARAMETER COMBINATION 4"
      ],
      "metadata": {
        "id": "yE4WqejBz0hJ"
      }
    },
    {
      "cell_type": "code",
      "source": [
        "# HYPERPARAMETERS\n",
        "MODEL_NAME = \"distilbert-base-uncased-finetuned-sst-2-english\" # Change to another BERT model\n",
        "BATCH_SIZE = 64 # Number of texts processed per batch (increase for speed)\n",
        "MAX_LENGTH = 512 # Truncate text after 512 tokens\n",
        "CONFIDENCE_THRESHOLD = 0.85 # If confidence < 0.75, classify as NEUTRAL"
      ],
      "metadata": {
        "id": "cke8a4NCz2g2"
      },
      "execution_count": 37,
      "outputs": []
    },
    {
      "cell_type": "code",
      "source": [
        "# Load BERT sentiment analysis pipeline\n",
        "sentiment_pipeline = pipeline(\"sentiment-analysis\", model=MODEL_NAME).\n",
        "def get_sentiment(text):\n",
        "  if text:\n",
        "    result = sentiment_pipeline(text[:MAX_LENGTH], truncation=True)[0] # Limit to max tokens\n",
        "    label, score = result['label'], result['score']\n",
        "\n",
        "    # Apply confidence threshold\n",
        "    if score < CONFIDENCE_THRESHOLD:\n",
        "      return \"NEUTRAL\"\n",
        "    elif label == \"POSITIVE\":\n",
        "      return \"POSITIVE\"\n",
        "    else:\n",
        "      return \"NEGATIVE\"\n",
        "      return \"NEUTRAL\""
      ],
      "metadata": {
        "colab": {
          "base_uri": "https://localhost:8080/"
        },
        "id": "NGNq0Aao0CtV",
        "outputId": "a9e430f7-4ccb-4134-ac8e-a60e31149760"
      },
      "execution_count": 38,
      "outputs": [
        {
          "output_type": "stream",
          "name": "stderr",
          "text": [
            "Device set to use cpu\n"
          ]
        }
      ]
    },
    {
      "cell_type": "code",
      "source": [
        "# Define PySpark UDF for sentiment classification\n",
        "\n",
        "sentiment_udf = udf(get_sentiment, StringType())\n",
        "\n",
        "# Apply sentiment analysis\n",
        "df = df.withColumn(\"sentiment\", sentiment_udf(col(\"tweets\")))"
      ],
      "metadata": {
        "id": "obPR3wyB0EwQ"
      },
      "execution_count": 39,
      "outputs": []
    },
    {
      "cell_type": "code",
      "source": [
        "# Show sentiment results with scores\n",
        "df.select(\"tweets\", \"sentiment\").show(30, truncate=False)"
      ],
      "metadata": {
        "colab": {
          "base_uri": "https://localhost:8080/"
        },
        "id": "imPdE2740HFj",
        "outputId": "74a63aaf-dea0-4719-d58a-409e2ec5eaab"
      },
      "execution_count": 40,
      "outputs": [
        {
          "output_type": "stream",
          "name": "stdout",
          "text": [
            "+---------------------------------------------------------------------------------------------------------------------------------+---------+\n",
            "|tweets                                                                                                                           |sentiment|\n",
            "+---------------------------------------------------------------------------------------------------------------------------------+---------+\n",
            "| user when a father is dysfunctional and is so selfish he drags his kids into his dysfunction   run                              |NEGATIVE |\n",
            "|user user thanks for lyft credit i cant use cause they dont offer wheelchair vans in pdx    disapointed getthanked               |NEGATIVE |\n",
            "|  bihday your majesty                                                                                                            |POSITIVE |\n",
            "|model   i love u take with u all the time in ur                                                                                  |POSITIVE |\n",
            "| factsguide society now    motivation                                                                                            |NEUTRAL  |\n",
            "| huge fan fare and big talking before they leave chaos and pay disputes when they get there allshowandnogo                       |POSITIVE |\n",
            "| user camping tomorrow user user user user user user user danny                                                                  |NEGATIVE |\n",
            "|the next school year is the year for exams cant think about that  school exams   hate imagine actorslife revolutionschool girl   |NEGATIVE |\n",
            "|we won love the land allin cavs champions cleveland clevelandcavaliers                                                           |POSITIVE |\n",
            "| user user welcome here   im   its so gr                                                                                         |NEGATIVE |\n",
            "|  ireland consumer price index mom climbed from previous  to  in may   blog silver gold forex                                    |NEUTRAL  |\n",
            "|we are so selfish orlando standwithorlando pulseshooting orlandoshooting biggerproblems selfish heabreaking   values love        |NEGATIVE |\n",
            "|i get to see my daddy today   days gettingfed                                                                                    |POSITIVE |\n",
            "|user cnn calls michigan middle school build the wall chant  tcot                                                                 |NEGATIVE |\n",
            "|no comment  in australia   opkillingbay seashepherd helpcovedolphins thecove  helpcovedolphins                                   |NEGATIVE |\n",
            "|ouchjunior is angrygot junior yugyoem   omg                                                                                      |NEGATIVE |\n",
            "|i am thankful for having a paner thankful positive                                                                               |POSITIVE |\n",
            "|retweet if you agree                                                                                                             |NEGATIVE |\n",
            "|its friday  smiles all around via ig user user cookies make people                                                               |POSITIVE |\n",
            "|as we all know essential oils are not made of chemicals                                                                          |NEGATIVE |\n",
            "|euro people blaming ha for conceded goal was it fat rooney who gave away free kick knowing bale can hit them from there          |NEGATIVE |\n",
            "|sad little dude   badday coneofshame cats pissed funny laughs                                                                    |NEUTRAL  |\n",
            "|product of the day happy man wine tool  whos   its the weekend time to open up amp drink up                                      |POSITIVE |\n",
            "|user user lumpy says i am a  prove it lumpy                                                                                      |NEGATIVE |\n",
            "| user tgif   ff to my gamedev indiedev indiegamedev squad user user user user user                                               |NEGATIVE |\n",
            "|beautiful sign by vendor  for  upsideofflorida shopalyssas   love                                                                |POSITIVE |\n",
            "| user all smiles when media is     pressconference in antalya turkey  sunday throwback  love                                     |POSITIVE |\n",
            "|we had a great panel on the mediatization of the public service   ica                                                            |POSITIVE |\n",
            "|happy fathers day user                                                                                                           |POSITIVE |\n",
            "| people went to nightclub to have a good night and  mans actions means those people are lost to their families forever riporlando|NEGATIVE |\n",
            "+---------------------------------------------------------------------------------------------------------------------------------+---------+\n",
            "only showing top 30 rows\n",
            "\n"
          ]
        }
      ]
    },
    {
      "cell_type": "code",
      "source": [
        "#Count of each sentiment category\n",
        "df.groupBy(\"sentiment\").count().show()"
      ],
      "metadata": {
        "colab": {
          "base_uri": "https://localhost:8080/"
        },
        "id": "NCESk1r50J-a",
        "outputId": "847a8312-8ef2-446f-e455-18177e18f33e"
      },
      "execution_count": 41,
      "outputs": [
        {
          "output_type": "stream",
          "name": "stdout",
          "text": [
            "+---------+-----+\n",
            "|sentiment|count|\n",
            "+---------+-----+\n",
            "| POSITIVE|  419|\n",
            "| NEGATIVE|  491|\n",
            "|  NEUTRAL|   89|\n",
            "+---------+-----+\n",
            "\n"
          ]
        }
      ]
    },
    {
      "cell_type": "markdown",
      "source": [
        "HYPERPARAMETER COMBINATION 5"
      ],
      "metadata": {
        "id": "LjBqVhFz01yp"
      }
    },
    {
      "cell_type": "code",
      "source": [
        "# HYPERPARAMETERS\n",
        "MODEL_NAME = \"distilbert-base-uncased-finetuned-sst-2-english\" # Change to another BERT model\n",
        "BATCH_SIZE = 32 # Number of texts processed per batch (increase for speed)\n",
        "MAX_LENGTH = 512 # Truncate text after 512 tokens\n",
        "CONFIDENCE_THRESHOLD = 0.9 # If confidence < 0.75, classify as NEUTRAL"
      ],
      "metadata": {
        "id": "u-npMOoC04gA"
      },
      "execution_count": 42,
      "outputs": []
    },
    {
      "cell_type": "code",
      "source": [
        "# Load BERT sentiment analysis pipeline\n",
        "sentiment_pipeline = pipeline(\"sentiment-analysis\", model=MODEL_NAME)\n",
        "\n",
        "def get_sentiment(text):\n",
        "  if text:\n",
        "    result = sentiment_pipeline(text[:MAX_LENGTH], truncation=True)[0] # Limit to max tokens\n",
        "    label, score = result['label'], result['score']\n",
        "\n",
        "    # Apply confidence threshold\n",
        "    if score < CONFIDENCE_THRESHOLD:\n",
        "      return \"NEUTRAL\"\n",
        "    elif label == \"POSITIVE\":\n",
        "      return \"POSITIVE\"\n",
        "    else:\n",
        "      return \"NEGATIVE\"\n",
        "      return \"NEUTRAL\""
      ],
      "metadata": {
        "colab": {
          "base_uri": "https://localhost:8080/"
        },
        "id": "mXVnAa8M07hI",
        "outputId": "d200ef6e-f6d5-43c9-ab4e-2c5866a97d5b"
      },
      "execution_count": 43,
      "outputs": [
        {
          "output_type": "stream",
          "name": "stderr",
          "text": [
            "Device set to use cpu\n"
          ]
        }
      ]
    },
    {
      "cell_type": "code",
      "source": [
        "# Define PySpark UDF for sentiment classification\n",
        "\n",
        "sentiment_udf = udf(get_sentiment, StringType())\n",
        "\n",
        "# Apply sentiment analysis\n",
        "df = df.withColumn(\"sentiment\", sentiment_udf(col(\"tweets\")))"
      ],
      "metadata": {
        "id": "SUGb8LcD1Cxc"
      },
      "execution_count": 44,
      "outputs": []
    },
    {
      "cell_type": "code",
      "source": [
        "# Show sentiment results with scores\n",
        "df.select(\"tweets\", \"sentiment\").show(30, truncate=False)"
      ],
      "metadata": {
        "colab": {
          "base_uri": "https://localhost:8080/"
        },
        "id": "OB82j-fK1GUQ",
        "outputId": "1992913b-e158-4ddc-da96-af3e796517f4"
      },
      "execution_count": 45,
      "outputs": [
        {
          "output_type": "stream",
          "name": "stdout",
          "text": [
            "+---------------------------------------------------------------------------------------------------------------------------------+---------+\n",
            "|tweets                                                                                                                           |sentiment|\n",
            "+---------------------------------------------------------------------------------------------------------------------------------+---------+\n",
            "| user when a father is dysfunctional and is so selfish he drags his kids into his dysfunction   run                              |NEGATIVE |\n",
            "|user user thanks for lyft credit i cant use cause they dont offer wheelchair vans in pdx    disapointed getthanked               |NEGATIVE |\n",
            "|  bihday your majesty                                                                                                            |POSITIVE |\n",
            "|model   i love u take with u all the time in ur                                                                                  |POSITIVE |\n",
            "| factsguide society now    motivation                                                                                            |NEUTRAL  |\n",
            "| huge fan fare and big talking before they leave chaos and pay disputes when they get there allshowandnogo                       |POSITIVE |\n",
            "| user camping tomorrow user user user user user user user danny                                                                  |NEGATIVE |\n",
            "|the next school year is the year for exams cant think about that  school exams   hate imagine actorslife revolutionschool girl   |NEGATIVE |\n",
            "|we won love the land allin cavs champions cleveland clevelandcavaliers                                                           |POSITIVE |\n",
            "| user user welcome here   im   its so gr                                                                                         |NEGATIVE |\n",
            "|  ireland consumer price index mom climbed from previous  to  in may   blog silver gold forex                                    |NEUTRAL  |\n",
            "|we are so selfish orlando standwithorlando pulseshooting orlandoshooting biggerproblems selfish heabreaking   values love        |NEGATIVE |\n",
            "|i get to see my daddy today   days gettingfed                                                                                    |POSITIVE |\n",
            "|user cnn calls michigan middle school build the wall chant  tcot                                                                 |NEGATIVE |\n",
            "|no comment  in australia   opkillingbay seashepherd helpcovedolphins thecove  helpcovedolphins                                   |NEGATIVE |\n",
            "|ouchjunior is angrygot junior yugyoem   omg                                                                                      |NEGATIVE |\n",
            "|i am thankful for having a paner thankful positive                                                                               |POSITIVE |\n",
            "|retweet if you agree                                                                                                             |NEGATIVE |\n",
            "|its friday  smiles all around via ig user user cookies make people                                                               |POSITIVE |\n",
            "|as we all know essential oils are not made of chemicals                                                                          |NEGATIVE |\n",
            "|euro people blaming ha for conceded goal was it fat rooney who gave away free kick knowing bale can hit them from there          |NEGATIVE |\n",
            "|sad little dude   badday coneofshame cats pissed funny laughs                                                                    |NEUTRAL  |\n",
            "|product of the day happy man wine tool  whos   its the weekend time to open up amp drink up                                      |POSITIVE |\n",
            "|user user lumpy says i am a  prove it lumpy                                                                                      |NEGATIVE |\n",
            "| user tgif   ff to my gamedev indiedev indiegamedev squad user user user user user                                               |NEGATIVE |\n",
            "|beautiful sign by vendor  for  upsideofflorida shopalyssas   love                                                                |POSITIVE |\n",
            "| user all smiles when media is     pressconference in antalya turkey  sunday throwback  love                                     |POSITIVE |\n",
            "|we had a great panel on the mediatization of the public service   ica                                                            |POSITIVE |\n",
            "|happy fathers day user                                                                                                           |POSITIVE |\n",
            "| people went to nightclub to have a good night and  mans actions means those people are lost to their families forever riporlando|NEGATIVE |\n",
            "+---------------------------------------------------------------------------------------------------------------------------------+---------+\n",
            "only showing top 30 rows\n",
            "\n"
          ]
        }
      ]
    },
    {
      "cell_type": "code",
      "source": [
        "#Count of each sentiment category\n",
        "df.groupBy(\"sentiment\").count().show()"
      ],
      "metadata": {
        "colab": {
          "base_uri": "https://localhost:8080/"
        },
        "id": "WYNp3Ulj1I3X",
        "outputId": "00048468-e178-4b5e-b800-499b25f768a1"
      },
      "execution_count": 46,
      "outputs": [
        {
          "output_type": "stream",
          "name": "stdout",
          "text": [
            "+---------+-----+\n",
            "|sentiment|count|\n",
            "+---------+-----+\n",
            "| POSITIVE|  404|\n",
            "| NEGATIVE|  474|\n",
            "|  NEUTRAL|  121|\n",
            "+---------+-----+\n",
            "\n"
          ]
        }
      ]
    }
  ]
}