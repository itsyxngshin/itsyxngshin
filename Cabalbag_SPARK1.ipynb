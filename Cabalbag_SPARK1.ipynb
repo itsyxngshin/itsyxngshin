{
  "nbformat": 4,
  "nbformat_minor": 0,
  "metadata": {
    "colab": {
      "provenance": []
    },
    "kernelspec": {
      "name": "python3",
      "display_name": "Python 3"
    },
    "language_info": {
      "name": "python"
    }
  },
  "cells": [
    {
      "cell_type": "code",
      "source": [
        "#Activity 1\n",
        "#Adornado B. Cabalbag Jr. - BSIT 3B"
      ],
      "metadata": {
        "id": "C7MV9WEd1N0x"
      },
      "execution_count": null,
      "outputs": []
    },
    {
      "cell_type": "code",
      "execution_count": null,
      "metadata": {
        "colab": {
          "base_uri": "https://localhost:8080/"
        },
        "id": "OE-MZA2xz8lZ",
        "outputId": "15fbcae3-48f4-49b7-8aa3-506954db401b"
      },
      "outputs": [
        {
          "output_type": "stream",
          "name": "stdout",
          "text": [
            "Requirement already satisfied: pyspark in /usr/local/lib/python3.11/dist-packages (3.5.4)\n",
            "Requirement already satisfied: py4j==0.10.9.7 in /usr/local/lib/python3.11/dist-packages (from pyspark) (0.10.9.7)\n",
            "Requirement already satisfied: matplotlib in /usr/local/lib/python3.11/dist-packages (3.10.0)\n",
            "Requirement already satisfied: contourpy>=1.0.1 in /usr/local/lib/python3.11/dist-packages (from matplotlib) (1.3.1)\n",
            "Requirement already satisfied: cycler>=0.10 in /usr/local/lib/python3.11/dist-packages (from matplotlib) (0.12.1)\n",
            "Requirement already satisfied: fonttools>=4.22.0 in /usr/local/lib/python3.11/dist-packages (from matplotlib) (4.55.7)\n",
            "Requirement already satisfied: kiwisolver>=1.3.1 in /usr/local/lib/python3.11/dist-packages (from matplotlib) (1.4.8)\n",
            "Requirement already satisfied: numpy>=1.23 in /usr/local/lib/python3.11/dist-packages (from matplotlib) (1.26.4)\n",
            "Requirement already satisfied: packaging>=20.0 in /usr/local/lib/python3.11/dist-packages (from matplotlib) (24.2)\n",
            "Requirement already satisfied: pillow>=8 in /usr/local/lib/python3.11/dist-packages (from matplotlib) (11.1.0)\n",
            "Requirement already satisfied: pyparsing>=2.3.1 in /usr/local/lib/python3.11/dist-packages (from matplotlib) (3.2.1)\n",
            "Requirement already satisfied: python-dateutil>=2.7 in /usr/local/lib/python3.11/dist-packages (from matplotlib) (2.8.2)\n",
            "Requirement already satisfied: six>=1.5 in /usr/local/lib/python3.11/dist-packages (from python-dateutil>=2.7->matplotlib) (1.17.0)\n"
          ]
        }
      ],
      "source": [
        "# Install PySpark\n",
        "!pip install pyspark\n",
        "# Install Matplotlib for visualization\n",
        "!pip install matplotlib"
      ]
    },
    {
      "cell_type": "code",
      "source": [
        "from pyspark.sql import SparkSession\n",
        "import matplotlib.pyplot as plt\n",
        "# Step 1: Initialize Spark Session\n",
        "spark = SparkSession.builder \\\n",
        ".appName(\"SimpleDataAnalysis\") \\\n",
        ".getOrCreate()"
      ],
      "metadata": {
        "id": "jiYJD2Uu0HSx"
      },
      "execution_count": null,
      "outputs": []
    },
    {
      "cell_type": "code",
      "source": [
        "# Step 2: Create a Sample DataFrame\n",
        "data = [\n",
        "(\"Alice\", \"HR\", 3000),\n",
        "(\"Bob\", \"IT\", 4000),\n",
        "(\"Charlie\", \"HR\", 3500),\n",
        "(\"David\", \"IT\", 4500),\n",
        "(\"Eva\", \"Finance\", 5000),\n",
        "(\"Frank\", \"Finance\", 5500),\n",
        "(\"Grace\", \"IT\", 3800),\n",
        "]"
      ],
      "metadata": {
        "id": "cy69NkKi0KXy"
      },
      "execution_count": null,
      "outputs": []
    },
    {
      "cell_type": "code",
      "source": [
        "columns = [\"Name\", \"Department\", \"Salary\"]\n",
        "df = spark.createDataFrame(data, columns)\n",
        "\n",
        "spark.createDataFrame(data, columns)\n",
        "\n",
        "df.show();"
      ],
      "metadata": {
        "colab": {
          "base_uri": "https://localhost:8080/"
        },
        "id": "pgnWhGPw0be1",
        "outputId": "ba80defe-8d8b-4934-a6e8-640e8d4accb9"
      },
      "execution_count": null,
      "outputs": [
        {
          "output_type": "stream",
          "name": "stdout",
          "text": [
            "+-------+----------+------+\n",
            "|   Name|Department|Salary|\n",
            "+-------+----------+------+\n",
            "|  Alice|        HR|  3000|\n",
            "|    Bob|        IT|  4000|\n",
            "|Charlie|        HR|  3500|\n",
            "|  David|        IT|  4500|\n",
            "|    Eva|   Finance|  5000|\n",
            "|  Frank|   Finance|  5500|\n",
            "|  Grace|        IT|  3800|\n",
            "+-------+----------+------+\n",
            "\n"
          ]
        }
      ]
    },
    {
      "cell_type": "code",
      "source": [
        "# Step 3: Perform Data Analysis\n",
        "# Calculate average salary by department\n",
        "avg_salary_df = df.groupBy(\"Department\").avg(\"Salary\").withColumnRenamed(\"avg(Salary)\", \"Average Salary\")\n",
        "\n",
        "# Show the results\n",
        "avg_salary_df.show()\n"
      ],
      "metadata": {
        "colab": {
          "base_uri": "https://localhost:8080/"
        },
        "id": "a33ojWG50e7W",
        "outputId": "52e57245-1570-4e7e-902c-8371c212d149"
      },
      "execution_count": null,
      "outputs": [
        {
          "output_type": "stream",
          "name": "stdout",
          "text": [
            "+----------+--------------+\n",
            "|Department|Average Salary|\n",
            "+----------+--------------+\n",
            "|        HR|        3250.0|\n",
            "|        IT|        4100.0|\n",
            "|   Finance|        5250.0|\n",
            "+----------+--------------+\n",
            "\n"
          ]
        }
      ]
    },
    {
      "cell_type": "code",
      "source": [
        "# Step 4: Prepare Data for Visualization\n",
        "# Collect the data to the driver\n",
        "avg_salary_data = avg_salary_df.collect()\n",
        "\n",
        "# Extract departments and average salaries\n",
        "departments = [row[\"Department\"] for row in avg_salary_data]\n",
        "avg_salaries = [row[\"Average Salary\"] for row in avg_salary_data]\n",
        "\n"
      ],
      "metadata": {
        "id": "yiTQb1jR08dp"
      },
      "execution_count": null,
      "outputs": []
    },
    {
      "cell_type": "code",
      "source": [
        "# Step 5: Visualize the Results\n",
        "plt.figure(figsize=(8, 6))\n",
        "plt.bar(departments, avg_salaries, color=[\"yellow\", \"cyan\", \"orange\"])\n",
        "plt.title(\"Average Salary by Department\")\n",
        "plt.xlabel(\"Department\")\n",
        "plt.ylabel(\"Average Salary\")\n",
        "plt.show()\n"
      ],
      "metadata": {
        "colab": {
          "base_uri": "https://localhost:8080/",
          "height": 564
        },
        "id": "FHFobWj61Btm",
        "outputId": "88fefcf3-52e5-4853-fa9c-255a79e63745"
      },
      "execution_count": null,
      "outputs": [
        {
          "output_type": "display_data",
          "data": {
            "text/plain": [
              "<Figure size 800x600 with 1 Axes>"
            ],
            "image/png": "[encoded data removed]"
          },
          "metadata": {}
        }
      ]
    },
    {
      "cell_type": "code",
      "source": [
        "# Step 6: Stop the Spark session\n",
        "spark.stop()"
      ],
      "metadata": {
        "id": "loOdJZdI1FNk"
      },
      "execution_count": null,
      "outputs": []
    },
    {
      "cell_type": "code",
      "source": [],
      "metadata": {
        "id": "q59q6PKj1I6C"
      },
      "execution_count": null,
      "outputs": []
    }
  ]
}